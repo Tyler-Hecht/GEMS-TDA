{
 "cells": [
  {
   "cell_type": "code",
   "execution_count": 1,
   "id": "c48a4cd0",
   "metadata": {},
   "outputs": [],
   "source": [
    "from generate_data import generate_data\n",
    "import numpy as np\n",
    "from tqdm import trange\n",
    "from collections import Counter\n",
    "from ripser import ripser"
   ]
  },
  {
   "cell_type": "code",
   "execution_count": 2,
   "id": "bf8b6996",
   "metadata": {},
   "outputs": [],
   "source": [
    "def center_point(point: np.ndarray, bin_size: float) -> tuple[float]:\n",
    "    # returns the center of the bin\n",
    "    # bins are evenly spaced from 0 to 1, so bin_size is the fraction of the parameter space\n",
    "    # for example, with bin_size = 0.01, 0.4783 centers to 0.475 since it is between 0.47 and 0.48\n",
    "    # bin size should be a unit fraction\n",
    "    return tuple((param//bin_size+0.5)*bin_size for param in point)\n",
    "\n",
    "def bin_points(data: np.ndarray, bin_size: float) -> Counter[tuple[float]]:\n",
    "    # Counts the number of points in each bin\n",
    "    centered_points = map(lambda point: center_point(point, bin_size), data)\n",
    "    return Counter(centered_points)\n",
    "\n",
    "def filter_by_threshold(counter: Counter, threshold: int) -> np.ndarray:\n",
    "    return np.array([point for point, count in counter.items() if count >= threshold])\n",
    "\n",
    "def bin_data(data: np.ndarray, bin_size: float = 0.01, threshold: int = 1, verbose: bool = True) -> np.ndarray:\n",
    "    n_TIs = data.shape[0]\n",
    "    n = data.shape[1]\n",
    "\n",
    "    binned_data = np.zeros((n_TIs, n), dtype = object) # object since each sample will have a different number of points after binning, so a Counter is used\n",
    "\n",
    "    range_func = trange if verbose else range\n",
    "    for i in range_func(n_TIs):\n",
    "        for j in range(n):\n",
    "            binned_counter = bin_points(data[i, j], bin_size=bin_size)\n",
    "            binned_data[i, j] = filter_by_threshold(binned_counter, threshold=threshold)\n",
    "\n",
    "    return binned_data\n"
   ]
  },
  {
   "cell_type": "code",
   "execution_count": 3,
   "id": "e774f4c8",
   "metadata": {},
   "outputs": [],
   "source": [
    "def get_separation(sample: np.ndarray) -> float:\n",
    "\n",
    "    if len(sample) < 2: # cannot calculate if only one point left after binning\n",
    "        return np.nan\n",
    "    \n",
    "    # [\"dgms\"][0][-2][1] gets the persistence data from Ripser, selects H_0,\n",
    "    # the penultimate bar, and the endpoint\n",
    "    return ripser(sample, maxdim = 0)[\"dgms\"][0][-2][1]\n",
    "\n",
    "\n",
    "def calculate_cluster_separation(data: np.ndarray, verbose: bool = True) -> np.ndarray:\n",
    "    n_TIs = data.shape[0]\n",
    "    n = data.shape[1]\n",
    "\n",
    "    cluster_separations = np.zeros(n_TIs, dtype = object) # some separations may be nan (and thus excluded), so size varies by TI\n",
    "\n",
    "    range_func = trange if verbose else range\n",
    "    for i in range_func(n_TIs):\n",
    "        cluster_separations[i] = []\n",
    "\n",
    "        for j in range(n):\n",
    "            if not np.isnan(cluster_separation := get_separation(data[i, j])): # only include if separation isn't nan\n",
    "                cluster_separations[i].append(cluster_separation)\n",
    "\n",
    "        cluster_separations[i] = np.array(cluster_separations[i])\n",
    "\n",
    "    return cluster_separations"
   ]
  },
  {
   "cell_type": "code",
   "execution_count": 4,
   "id": "52ed8695",
   "metadata": {},
   "outputs": [],
   "source": [
    "TIs = range(208, 1000, 16)\n",
    "n = 1000\n",
    "m = 10000"
   ]
  },
  {
   "cell_type": "code",
   "execution_count": 5,
   "id": "6fdcf6f2",
   "metadata": {},
   "outputs": [
    {
     "name": "stderr",
     "output_type": "stream",
     "text": [
      " 24%|██▍       | 12/50 [48:37<2:33:31, 242.42s/it]c:\\Users\\Lanceiv\\Documents\\GEMS\\repo\\Metropolis.py:49: RuntimeWarning: overflow encountered in exp\n",
      "  model = d1*np.exp(-TE/T21)+d2*np.exp(-TE/T22)\n",
      "c:\\Users\\Lanceiv\\Documents\\GEMS\\repo\\Metropolis.py:62: RuntimeWarning: overflow encountered in square\n",
      "  residual = (data-model)**2\n",
      "100%|██████████| 50/50 [3:22:57<00:00, 243.56s/it]  \n"
     ]
    }
   ],
   "source": [
    "data = generate_data(TIs, n, m, flip = True, normalize_data = True)"
   ]
  },
  {
   "cell_type": "code",
   "execution_count": 6,
   "id": "1b3b3c12",
   "metadata": {},
   "outputs": [
    {
     "name": "stderr",
     "output_type": "stream",
     "text": [
      "100%|██████████| 50/50 [16:44<00:00, 20.08s/it]\n"
     ]
    }
   ],
   "source": [
    "binned_data = bin_data(data)"
   ]
  },
  {
   "cell_type": "code",
   "execution_count": 7,
   "id": "4b8ad785",
   "metadata": {},
   "outputs": [
    {
     "name": "stderr",
     "output_type": "stream",
     "text": [
      "100%|██████████| 50/50 [24:43:08<00:00, 1779.78s/it]   \n"
     ]
    }
   ],
   "source": [
    "cluster_separations = calculate_cluster_separation(binned_data)"
   ]
  }
 ],
 "metadata": {
  "kernelspec": {
   "display_name": "Python 3",
   "language": "python",
   "name": "python3"
  },
  "language_info": {
   "codemirror_mode": {
    "name": "ipython",
    "version": 3
   },
   "file_extension": ".py",
   "mimetype": "text/x-python",
   "name": "python",
   "nbconvert_exporter": "python",
   "pygments_lexer": "ipython3",
   "version": "3.12.2"
  }
 },
 "nbformat": 4,
 "nbformat_minor": 5
}
